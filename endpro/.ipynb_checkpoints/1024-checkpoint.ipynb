{
 "cells": [
  {
   "cell_type": "code",
   "execution_count": 1,
   "metadata": {},
   "outputs": [
    {
     "data": {
      "text/plain": [
       "'/Users/mac/PycharmProjects/endpro/endpro'"
      ]
     },
     "execution_count": 1,
     "metadata": {},
     "output_type": "execute_result"
    }
   ],
   "source": [
    "pwd"
   ]
  },
  {
   "cell_type": "code",
   "execution_count": 2,
   "metadata": {
    "collapsed": true
   },
   "outputs": [],
   "source": [
    "import pandas as pd\n",
    "import numpy as np"
   ]
  },
  {
   "cell_type": "code",
   "execution_count": 3,
   "metadata": {
    "collapsed": true
   },
   "outputs": [],
   "source": [
    "da=pd.read_csv('./yansu1052.csv')"
   ]
  },
  {
   "cell_type": "code",
   "execution_count": 4,
   "metadata": {},
   "outputs": [
    {
     "data": {
      "text/plain": [
       "(1472, 7)"
      ]
     },
     "execution_count": 4,
     "metadata": {},
     "output_type": "execute_result"
    }
   ],
   "source": [
    "da.shape"
   ]
  },
  {
   "cell_type": "code",
   "execution_count": 5,
   "metadata": {},
   "outputs": [
    {
     "data": {
      "text/html": [
       "<div>\n",
       "<style>\n",
       "    .dataframe thead tr:only-child th {\n",
       "        text-align: right;\n",
       "    }\n",
       "\n",
       "    .dataframe thead th {\n",
       "        text-align: left;\n",
       "    }\n",
       "\n",
       "    .dataframe tbody tr th {\n",
       "        vertical-align: top;\n",
       "    }\n",
       "</style>\n",
       "<table border=\"1\" class=\"dataframe\">\n",
       "  <thead>\n",
       "    <tr style=\"text-align: right;\">\n",
       "      <th></th>\n",
       "      <th>commenter_co</th>\n",
       "      <th>commenter_movie</th>\n",
       "      <th>commenter_name</th>\n",
       "      <th>commenter_page</th>\n",
       "      <th>commenter_star</th>\n",
       "      <th>commenter_time</th>\n",
       "      <th>commenter_zan</th>\n",
       "    </tr>\n",
       "  </thead>\n",
       "  <tbody>\n",
       "    <tr>\n",
       "      <th>0</th>\n",
       "      <td>这个脸有点精神污染..\\n</td>\n",
       "      <td>托马斯大电影之了不起的比赛 短评</td>\n",
       "      <td>阿噗不高兴</td>\n",
       "      <td>https://www.douban.com/people/146256272/</td>\n",
       "      <td>较差</td>\n",
       "      <td>\\n                    2017-09-23\\n            ...</td>\n",
       "      <td>34.0</td>\n",
       "    </tr>\n",
       "    <tr>\n",
       "      <th>1</th>\n",
       "      <td>和我一样有恐怖感的请点“有用”。\\n</td>\n",
       "      <td>托马斯大电影之了不起的比赛 短评</td>\n",
       "      <td>慕容七</td>\n",
       "      <td>https://www.douban.com/people/19296065/</td>\n",
       "      <td>2017-09-21 01:51:45</td>\n",
       "      <td>NaN</td>\n",
       "      <td>35.0</td>\n",
       "    </tr>\n",
       "    <tr>\n",
       "      <th>2</th>\n",
       "      <td>因为儿子这段时间超级迷托马斯，因此下了这部电影，在无字幕，无中文配音的艰苦条件下，连续3天...</td>\n",
       "      <td>托马斯大电影之了不起的比赛 短评</td>\n",
       "      <td>Jane</td>\n",
       "      <td>https://www.douban.com/people/10337683/</td>\n",
       "      <td>力荐</td>\n",
       "      <td>\\n                    2016-10-25\\n            ...</td>\n",
       "      <td>26.0</td>\n",
       "    </tr>\n",
       "    <tr>\n",
       "      <th>3</th>\n",
       "      <td>成人和孩子视角不同会对片子评价大相径庭，成人嫌弃孩童欢腾。托马斯潜移默化的陪伴以及对小朋友...</td>\n",
       "      <td>托马斯大电影之了不起的比赛 短评</td>\n",
       "      <td>姹紫嫣红开遍。</td>\n",
       "      <td>https://www.douban.com/people/44551171/</td>\n",
       "      <td>推荐</td>\n",
       "      <td>\\n                    2016-11-11\\n            ...</td>\n",
       "      <td>11.0</td>\n",
       "    </tr>\n",
       "    <tr>\n",
       "      <th>4</th>\n",
       "      <td>看起来像恐怖片，脸吓人，个人意见勿喷\\n</td>\n",
       "      <td>托马斯大电影之了不起的比赛 短评</td>\n",
       "      <td>喵小琰</td>\n",
       "      <td>https://www.douban.com/people/49434155/</td>\n",
       "      <td>2017-09-18 14:54:47</td>\n",
       "      <td>NaN</td>\n",
       "      <td>6.0</td>\n",
       "    </tr>\n",
       "  </tbody>\n",
       "</table>\n",
       "</div>"
      ],
      "text/plain": [
       "                                        commenter_co   commenter_movie  \\\n",
       "0                              这个脸有点精神污染..\\n          托马斯大电影之了不起的比赛 短评   \n",
       "1                         和我一样有恐怖感的请点“有用”。\\n          托马斯大电影之了不起的比赛 短评   \n",
       "2   因为儿子这段时间超级迷托马斯，因此下了这部电影，在无字幕，无中文配音的艰苦条件下，连续3天...  托马斯大电影之了不起的比赛 短评   \n",
       "3   成人和孩子视角不同会对片子评价大相径庭，成人嫌弃孩童欢腾。托马斯潜移默化的陪伴以及对小朋友...  托马斯大电影之了不起的比赛 短评   \n",
       "4                       看起来像恐怖片，脸吓人，个人意见勿喷\\n          托马斯大电影之了不起的比赛 短评   \n",
       "\n",
       "  commenter_name                            commenter_page  \\\n",
       "0          阿噗不高兴  https://www.douban.com/people/146256272/   \n",
       "1            慕容七   https://www.douban.com/people/19296065/   \n",
       "2           Jane   https://www.douban.com/people/10337683/   \n",
       "3        姹紫嫣红开遍。   https://www.douban.com/people/44551171/   \n",
       "4            喵小琰   https://www.douban.com/people/49434155/   \n",
       "\n",
       "        commenter_star                                     commenter_time  \\\n",
       "0                   较差  \\n                    2017-09-23\\n            ...   \n",
       "1  2017-09-21 01:51:45                                                NaN   \n",
       "2                   力荐  \\n                    2016-10-25\\n            ...   \n",
       "3                   推荐  \\n                    2016-11-11\\n            ...   \n",
       "4  2017-09-18 14:54:47                                                NaN   \n",
       "\n",
       "   commenter_zan  \n",
       "0           34.0  \n",
       "1           35.0  \n",
       "2           26.0  \n",
       "3           11.0  \n",
       "4            6.0  "
      ]
     },
     "execution_count": 5,
     "metadata": {},
     "output_type": "execute_result"
    }
   ],
   "source": [
    "da.head()"
   ]
  },
  {
   "cell_type": "code",
   "execution_count": 6,
   "metadata": {},
   "outputs": [
    {
     "data": {
      "text/plain": [
       "commenter_co       118\n",
       "commenter_movie      0\n",
       "commenter_name     118\n",
       "commenter_page     118\n",
       "commenter_star     118\n",
       "commenter_time     208\n",
       "commenter_zan      118\n",
       "dtype: int64"
      ]
     },
     "execution_count": 6,
     "metadata": {},
     "output_type": "execute_result"
    }
   ],
   "source": [
    "da.isnull().sum()"
   ]
  },
  {
   "cell_type": "code",
   "execution_count": 7,
   "metadata": {
    "collapsed": true
   },
   "outputs": [],
   "source": [
    "daa=da.dropna()"
   ]
  },
  {
   "cell_type": "code",
   "execution_count": 8,
   "metadata": {},
   "outputs": [
    {
     "data": {
      "text/plain": [
       "(1264, 7)"
      ]
     },
     "execution_count": 8,
     "metadata": {},
     "output_type": "execute_result"
    }
   ],
   "source": [
    "daa.shape"
   ]
  },
  {
   "cell_type": "code",
   "execution_count": 9,
   "metadata": {},
   "outputs": [
    {
     "data": {
      "text/html": [
       "<div>\n",
       "<style>\n",
       "    .dataframe thead tr:only-child th {\n",
       "        text-align: right;\n",
       "    }\n",
       "\n",
       "    .dataframe thead th {\n",
       "        text-align: left;\n",
       "    }\n",
       "\n",
       "    .dataframe tbody tr th {\n",
       "        vertical-align: top;\n",
       "    }\n",
       "</style>\n",
       "<table border=\"1\" class=\"dataframe\">\n",
       "  <thead>\n",
       "    <tr style=\"text-align: right;\">\n",
       "      <th></th>\n",
       "      <th>commenter_co</th>\n",
       "      <th>commenter_movie</th>\n",
       "      <th>commenter_name</th>\n",
       "      <th>commenter_page</th>\n",
       "      <th>commenter_star</th>\n",
       "      <th>commenter_time</th>\n",
       "      <th>commenter_zan</th>\n",
       "    </tr>\n",
       "  </thead>\n",
       "  <tbody>\n",
       "    <tr>\n",
       "      <th>0</th>\n",
       "      <td>这个脸有点精神污染..\\n</td>\n",
       "      <td>托马斯大电影之了不起的比赛 短评</td>\n",
       "      <td>阿噗不高兴</td>\n",
       "      <td>https://www.douban.com/people/146256272/</td>\n",
       "      <td>较差</td>\n",
       "      <td>\\n                    2017-09-23\\n            ...</td>\n",
       "      <td>34.0</td>\n",
       "    </tr>\n",
       "    <tr>\n",
       "      <th>2</th>\n",
       "      <td>因为儿子这段时间超级迷托马斯，因此下了这部电影，在无字幕，无中文配音的艰苦条件下，连续3天...</td>\n",
       "      <td>托马斯大电影之了不起的比赛 短评</td>\n",
       "      <td>Jane</td>\n",
       "      <td>https://www.douban.com/people/10337683/</td>\n",
       "      <td>力荐</td>\n",
       "      <td>\\n                    2016-10-25\\n            ...</td>\n",
       "      <td>26.0</td>\n",
       "    </tr>\n",
       "    <tr>\n",
       "      <th>3</th>\n",
       "      <td>成人和孩子视角不同会对片子评价大相径庭，成人嫌弃孩童欢腾。托马斯潜移默化的陪伴以及对小朋友...</td>\n",
       "      <td>托马斯大电影之了不起的比赛 短评</td>\n",
       "      <td>姹紫嫣红开遍。</td>\n",
       "      <td>https://www.douban.com/people/44551171/</td>\n",
       "      <td>推荐</td>\n",
       "      <td>\\n                    2016-11-11\\n            ...</td>\n",
       "      <td>11.0</td>\n",
       "    </tr>\n",
       "    <tr>\n",
       "      <th>5</th>\n",
       "      <td>面部表情僵化，只会动眼珠子，台词就那么几句，小孩子也不是这么糊弄的\\n</td>\n",
       "      <td>托马斯大电影之了不起的比赛 短评</td>\n",
       "      <td>气质哥</td>\n",
       "      <td>https://www.douban.com/people/154596149/</td>\n",
       "      <td>很差</td>\n",
       "      <td>\\n                    2017-09-19\\n            ...</td>\n",
       "      <td>11.0</td>\n",
       "    </tr>\n",
       "    <tr>\n",
       "      <th>6</th>\n",
       "      <td>勇宝强势插入，但只来得及做二维，且故事太北方；片长对小孩算适中，最后一段复述情节略敷衍；问...</td>\n",
       "      <td>托马斯大电影之了不起的比赛 短评</td>\n",
       "      <td>逆风飞扬</td>\n",
       "      <td>https://www.douban.com/people/slowlycontinue/</td>\n",
       "      <td>推荐</td>\n",
       "      <td>\\n                    2017-09-23\\n            ...</td>\n",
       "      <td>2.0</td>\n",
       "    </tr>\n",
       "    <tr>\n",
       "      <th>8</th>\n",
       "      <td>介绍里说托马斯和来自中国的勇宝展开了友谊之旅，那么起码是围绕他们开始剧情。但其实勇宝只是在...</td>\n",
       "      <td>托马斯大电影之了不起的比赛 短评</td>\n",
       "      <td>文木</td>\n",
       "      <td>https://www.douban.com/people/skylk2000/</td>\n",
       "      <td>还行</td>\n",
       "      <td>\\n                    2017-09-23\\n            ...</td>\n",
       "      <td>6.0</td>\n",
       "    </tr>\n",
       "    <tr>\n",
       "      <th>9</th>\n",
       "      <td>开头中国火车植入太强，最后有种坐在幼儿园教室的感觉。剧情啰嗦，但色彩好美。\\n</td>\n",
       "      <td>托马斯大电影之了不起的比赛 短评</td>\n",
       "      <td>mumudancing</td>\n",
       "      <td>https://www.douban.com/people/mumudancing/</td>\n",
       "      <td>还行</td>\n",
       "      <td>\\n                    2017-09-24\\n            ...</td>\n",
       "      <td>3.0</td>\n",
       "    </tr>\n",
       "    <tr>\n",
       "      <th>10</th>\n",
       "      <td>教条太多\\n</td>\n",
       "      <td>托马斯大电影之了不起的比赛 短评</td>\n",
       "      <td>jasper的迷姐</td>\n",
       "      <td>https://www.douban.com/people/159306302/</td>\n",
       "      <td>很差</td>\n",
       "      <td>\\n                    2017-09-22\\n            ...</td>\n",
       "      <td>1.0</td>\n",
       "    </tr>\n",
       "    <tr>\n",
       "      <th>11</th>\n",
       "      <td>小时候一度被托马斯吓到过\\n</td>\n",
       "      <td>托马斯大电影之了不起的比赛 短评</td>\n",
       "      <td>红藕香残玉簟秋</td>\n",
       "      <td>https://www.douban.com/people/127437486/</td>\n",
       "      <td>还行</td>\n",
       "      <td>\\n                    2017-10-03\\n            ...</td>\n",
       "      <td>2.0</td>\n",
       "    </tr>\n",
       "    <tr>\n",
       "      <th>13</th>\n",
       "      <td>小朋友喜欢\\n</td>\n",
       "      <td>托马斯大电影之了不起的比赛 短评</td>\n",
       "      <td>御剑乘风</td>\n",
       "      <td>https://www.douban.com/people/50560714/</td>\n",
       "      <td>推荐</td>\n",
       "      <td>\\n                    2017-09-28\\n            ...</td>\n",
       "      <td>0.0</td>\n",
       "    </tr>\n",
       "  </tbody>\n",
       "</table>\n",
       "</div>"
      ],
      "text/plain": [
       "                                         commenter_co   commenter_movie  \\\n",
       "0                               这个脸有点精神污染..\\n          托马斯大电影之了不起的比赛 短评   \n",
       "2    因为儿子这段时间超级迷托马斯，因此下了这部电影，在无字幕，无中文配音的艰苦条件下，连续3天...  托马斯大电影之了不起的比赛 短评   \n",
       "3    成人和孩子视角不同会对片子评价大相径庭，成人嫌弃孩童欢腾。托马斯潜移默化的陪伴以及对小朋友...  托马斯大电影之了不起的比赛 短评   \n",
       "5         面部表情僵化，只会动眼珠子，台词就那么几句，小孩子也不是这么糊弄的\\n          托马斯大电影之了不起的比赛 短评   \n",
       "6    勇宝强势插入，但只来得及做二维，且故事太北方；片长对小孩算适中，最后一段复述情节略敷衍；问...  托马斯大电影之了不起的比赛 短评   \n",
       "8    介绍里说托马斯和来自中国的勇宝展开了友谊之旅，那么起码是围绕他们开始剧情。但其实勇宝只是在...  托马斯大电影之了不起的比赛 短评   \n",
       "9     开头中国火车植入太强，最后有种坐在幼儿园教室的感觉。剧情啰嗦，但色彩好美。\\n          托马斯大电影之了不起的比赛 短评   \n",
       "10                                     教条太多\\n          托马斯大电影之了不起的比赛 短评   \n",
       "11                             小时候一度被托马斯吓到过\\n          托马斯大电影之了不起的比赛 短评   \n",
       "13                                    小朋友喜欢\\n          托马斯大电影之了不起的比赛 短评   \n",
       "\n",
       "   commenter_name                                 commenter_page  \\\n",
       "0           阿噗不高兴       https://www.douban.com/people/146256272/   \n",
       "2            Jane        https://www.douban.com/people/10337683/   \n",
       "3         姹紫嫣红开遍。        https://www.douban.com/people/44551171/   \n",
       "5             气质哥       https://www.douban.com/people/154596149/   \n",
       "6            逆风飞扬  https://www.douban.com/people/slowlycontinue/   \n",
       "8              文木       https://www.douban.com/people/skylk2000/   \n",
       "9     mumudancing     https://www.douban.com/people/mumudancing/   \n",
       "10      jasper的迷姐       https://www.douban.com/people/159306302/   \n",
       "11        红藕香残玉簟秋       https://www.douban.com/people/127437486/   \n",
       "13           御剑乘风        https://www.douban.com/people/50560714/   \n",
       "\n",
       "   commenter_star                                     commenter_time  \\\n",
       "0              较差  \\n                    2017-09-23\\n            ...   \n",
       "2              力荐  \\n                    2016-10-25\\n            ...   \n",
       "3              推荐  \\n                    2016-11-11\\n            ...   \n",
       "5              很差  \\n                    2017-09-19\\n            ...   \n",
       "6              推荐  \\n                    2017-09-23\\n            ...   \n",
       "8              还行  \\n                    2017-09-23\\n            ...   \n",
       "9              还行  \\n                    2017-09-24\\n            ...   \n",
       "10             很差  \\n                    2017-09-22\\n            ...   \n",
       "11             还行  \\n                    2017-10-03\\n            ...   \n",
       "13             推荐  \\n                    2017-09-28\\n            ...   \n",
       "\n",
       "    commenter_zan  \n",
       "0            34.0  \n",
       "2            26.0  \n",
       "3            11.0  \n",
       "5            11.0  \n",
       "6             2.0  \n",
       "8             6.0  \n",
       "9             3.0  \n",
       "10            1.0  \n",
       "11            2.0  \n",
       "13            0.0  "
      ]
     },
     "execution_count": 9,
     "metadata": {},
     "output_type": "execute_result"
    }
   ],
   "source": [
    "daa.head(10)"
   ]
  },
  {
   "cell_type": "code",
   "execution_count": 10,
   "metadata": {},
   "outputs": [
    {
     "data": {
      "text/plain": [
       "推荐    432\n",
       "还行    330\n",
       "力荐    176\n",
       "较差    165\n",
       "很差    161\n",
       "Name: commenter_star, dtype: int64"
      ]
     },
     "execution_count": 10,
     "metadata": {},
     "output_type": "execute_result"
    }
   ],
   "source": [
    "daa.commenter_star.value_counts()"
   ]
  },
  {
   "cell_type": "code",
   "execution_count": 11,
   "metadata": {},
   "outputs": [
    {
     "name": "stderr",
     "output_type": "stream",
     "text": [
      "/Users/mac/anaconda/lib/python3.6/site-packages/ipykernel_launcher.py:1: SettingWithCopyWarning: \n",
      "A value is trying to be set on a copy of a slice from a DataFrame.\n",
      "Try using .loc[row_indexer,col_indexer] = value instead\n",
      "\n",
      "See the caveats in the documentation: http://pandas.pydata.org/pandas-docs/stable/indexing.html#indexing-view-versus-copy\n",
      "  \"\"\"Entry point for launching an IPython kernel.\n"
     ]
    }
   ],
   "source": [
    "daa['commenter_co']=daa.commenter_co.apply(lambda x :x.strip())"
   ]
  },
  {
   "cell_type": "code",
   "execution_count": 12,
   "metadata": {
    "scrolled": true
   },
   "outputs": [
    {
     "data": {
      "text/plain": [
       "commenter_co        object\n",
       "commenter_movie     object\n",
       "commenter_name      object\n",
       "commenter_page      object\n",
       "commenter_star      object\n",
       "commenter_time      object\n",
       "commenter_zan      float64\n",
       "dtype: object"
      ]
     },
     "execution_count": 12,
     "metadata": {},
     "output_type": "execute_result"
    }
   ],
   "source": [
    "daa.dtypes"
   ]
  },
  {
   "cell_type": "code",
   "execution_count": 13,
   "metadata": {},
   "outputs": [
    {
     "name": "stderr",
     "output_type": "stream",
     "text": [
      "/Users/mac/anaconda/lib/python3.6/site-packages/ipykernel_launcher.py:1: SettingWithCopyWarning: \n",
      "A value is trying to be set on a copy of a slice from a DataFrame.\n",
      "Try using .loc[row_indexer,col_indexer] = value instead\n",
      "\n",
      "See the caveats in the documentation: http://pandas.pydata.org/pandas-docs/stable/indexing.html#indexing-view-versus-copy\n",
      "  \"\"\"Entry point for launching an IPython kernel.\n"
     ]
    }
   ],
   "source": [
    "daa['commenter_time']=daa.commenter_time.apply(lambda x :x.strip())"
   ]
  },
  {
   "cell_type": "code",
   "execution_count": 14,
   "metadata": {},
   "outputs": [
    {
     "name": "stderr",
     "output_type": "stream",
     "text": [
      "/Users/mac/anaconda/lib/python3.6/site-packages/pandas/core/generic.py:2999: SettingWithCopyWarning: \n",
      "A value is trying to be set on a copy of a slice from a DataFrame.\n",
      "Try using .loc[row_indexer,col_indexer] = value instead\n",
      "\n",
      "See the caveats in the documentation: http://pandas.pydata.org/pandas-docs/stable/indexing.html#indexing-view-versus-copy\n",
      "  self[name] = value\n"
     ]
    }
   ],
   "source": [
    "daa.commenter_zan=daa.commenter_zan.astype('int')"
   ]
  },
  {
   "cell_type": "code",
   "execution_count": 16,
   "metadata": {
    "collapsed": true
   },
   "outputs": [],
   "source": [
    "allcontent=daa.commenter_co.values.tolist()"
   ]
  },
  {
   "cell_type": "code",
   "execution_count": 17,
   "metadata": {
    "collapsed": true
   },
   "outputs": [],
   "source": [
    "stopwords=pd.read_csv(\"./stopwords.txt\",index_col=False,quoting=3,sep=\"\\t\",names=['stopword'], encoding='utf-8')\n",
    "stopwords=stopwords['stopword'].values"
   ]
  },
  {
   "cell_type": "code",
   "execution_count": 18,
   "metadata": {},
   "outputs": [
    {
     "data": {
      "text/plain": [
       "array(['较差', '力荐', '推荐', '很差', '还行'], dtype=object)"
      ]
     },
     "execution_count": 18,
     "metadata": {},
     "output_type": "execute_result"
    }
   ],
   "source": [
    "daa.commenter_star.unique()"
   ]
  },
  {
   "cell_type": "code",
   "execution_count": 19,
   "metadata": {
    "collapsed": true
   },
   "outputs": [],
   "source": [
    "dat=pd.concat([daa['commenter_co'],daa['commenter_zan'],daa['commenter_star']],axis=1)"
   ]
  },
  {
   "cell_type": "code",
   "execution_count": 37,
   "metadata": {
    "scrolled": true
   },
   "outputs": [
    {
     "name": "stderr",
     "output_type": "stream",
     "text": [
      "/Users/mac/anaconda/lib/python3.6/site-packages/ipykernel_launcher.py:1: SettingWithCopyWarning: \n",
      "A value is trying to be set on a copy of a slice from a DataFrame.\n",
      "Try using .loc[row_indexer,col_indexer] = value instead\n",
      "\n",
      "See the caveats in the documentation: http://pandas.pydata.org/pandas-docs/stable/indexing.html#indexing-view-versus-copy\n",
      "  \"\"\"Entry point for launching an IPython kernel.\n"
     ]
    }
   ],
   "source": [
    "daa['commenter_star']=daa['commenter_star'].astype('str')"
   ]
  },
  {
   "cell_type": "code",
   "execution_count": 42,
   "metadata": {},
   "outputs": [],
   "source": [
    "haixingco=daa[daa['commenter_star']=='还行'].commenter_co.values.tolist()\n",
    "jiaochaco=daa[daa['commenter_star']=='较差'].commenter_co.values.tolist()\n",
    "lijianco=daa[daa['commenter_star']=='力荐'].commenter_co.values.tolist()\n",
    "hencha=daa[daa['commenter_star']=='很差'].commenter_co.values.tolist()\n",
    "tuijianco=daa[daa['commenter_star']=='推荐'].commenter_co.values.tolist()"
   ]
  },
  {
   "cell_type": "code",
   "execution_count": 45,
   "metadata": {},
   "outputs": [],
   "source": [
    "sentences = []\n",
    "def preprocess_text(content_lines, sentences, category):\n",
    "    for line in content_lines:\n",
    "        try:\n",
    "            segs=jieba.lcut(line)\n",
    "            segs = filter(lambda x:len(x)>1, segs)\n",
    "            segs = filter(lambda x:x not in stopwords, segs)\n",
    "            sentences.append((\" \".join(segs), category))\n",
    "        except Exception as e:\n",
    "            print (line)\n",
    "            continue\n",
    "            \n"
   ]
  },
  {
   "cell_type": "code",
   "execution_count": 47,
   "metadata": {
    "collapsed": true
   },
   "outputs": [],
   "source": [
    "import jieba"
   ]
  },
  {
   "cell_type": "code",
   "execution_count": 48,
   "metadata": {},
   "outputs": [
    {
     "name": "stderr",
     "output_type": "stream",
     "text": [
      "Building prefix dict from the default dictionary ...\n",
      "Dumping model to file cache /var/folders/f6/f6tshqzn7wn864wjfzpy1zd00000gn/T/jieba.cache\n",
      "Loading model cost 2.352 seconds.\n",
      "Prefix dict has been built succesfully.\n"
     ]
    }
   ],
   "source": [
    "preprocess_text(haixingco, sentences, '还行')\n",
    "preprocess_text(jiaochaco, sentences, '较差')\n",
    "preprocess_text(lijianco, sentences, '力荐')\n",
    "preprocess_text(hencha, sentences, '很差')\n",
    "preprocess_text(tuijianco, sentences, '推荐')"
   ]
  },
  {
   "cell_type": "code",
   "execution_count": 49,
   "metadata": {
    "collapsed": true
   },
   "outputs": [],
   "source": [
    "from sklearn.model_selection import train_test_split"
   ]
  },
  {
   "cell_type": "code",
   "execution_count": 51,
   "metadata": {
    "collapsed": true
   },
   "outputs": [],
   "source": [
    "x, y = zip(*sentences)\n",
    "x_train, x_test, y_train, y_test = train_test_split(x, y, random_state=1234)"
   ]
  },
  {
   "cell_type": "code",
   "execution_count": 59,
   "metadata": {
    "collapsed": true
   },
   "outputs": [],
   "source": [
    "import random\n",
    "random.shuffle(sentences)"
   ]
  },
  {
   "cell_type": "code",
   "execution_count": 60,
   "metadata": {},
   "outputs": [],
   "source": [
    "from sklearn.feature_extraction.text import CountVectorizer\n",
    "\n",
    "vec = CountVectorizer(\n",
    "    analyzer='word', # tokenise by character ngrams\n",
    "    max_features=4000,  # keep the most common 1000 ngrams\n",
    ")\n",
    "vec.fit(x_train)\n",
    "\n",
    "def get_features(x):\n",
    "    vec.transform(x)"
   ]
  },
  {
   "cell_type": "code",
   "execution_count": 61,
   "metadata": {},
   "outputs": [
    {
     "data": {
      "text/plain": [
       "MultinomialNB(alpha=1.0, class_prior=None, fit_prior=True)"
      ]
     },
     "execution_count": 61,
     "metadata": {},
     "output_type": "execute_result"
    }
   ],
   "source": [
    "from sklearn.naive_bayes import MultinomialNB\n",
    "classifier = MultinomialNB()\n",
    "classifier.fit(vec.transform(x_train), y_train)"
   ]
  },
  {
   "cell_type": "code",
   "execution_count": 62,
   "metadata": {},
   "outputs": [
    {
     "data": {
      "text/plain": [
       "0.42088607594936711"
      ]
     },
     "execution_count": 62,
     "metadata": {},
     "output_type": "execute_result"
    }
   ],
   "source": [
    "classifier.score(vec.transform(x_test), y_test)"
   ]
  },
  {
   "cell_type": "code",
   "execution_count": 63,
   "metadata": {},
   "outputs": [
    {
     "name": "stderr",
     "output_type": "stream",
     "text": [
      "/Users/mac/anaconda/lib/python3.6/site-packages/sklearn/cross_validation.py:44: DeprecationWarning: This module was deprecated in version 0.18 in favor of the model_selection module into which all the refactored classes and functions are moved. Also note that the interface of the new CV iterators are different from that of this module. This module will be removed in 0.20.\n",
      "  \"This module will be removed in 0.20.\", DeprecationWarning)\n"
     ]
    }
   ],
   "source": [
    "from sklearn.cross_validation import StratifiedKFold\n",
    "from sklearn.metrics import accuracy_score, precision_score"
   ]
  },
  {
   "cell_type": "code",
   "execution_count": 65,
   "metadata": {},
   "outputs": [
    {
     "name": "stdout",
     "output_type": "stream",
     "text": [
      "0.40111988717\n"
     ]
    }
   ],
   "source": [
    "def stratifiedkfold_cv(x, y, clf_class, shuffle=True, n_folds=5, **kwargs):\n",
    "    stratifiedk_fold = StratifiedKFold(y, n_folds=n_folds, shuffle=shuffle)\n",
    "    y_pred = y[:]\n",
    "    for train_index, test_index in stratifiedk_fold:\n",
    "        X_train, X_test = x[train_index], x[test_index]\n",
    "        y_train = y[train_index]\n",
    "        clf = clf_class(**kwargs)\n",
    "        clf.fit(X_train,y_train)\n",
    "        y_pred[test_index] = clf.predict(X_test)\n",
    "    return y_pred \n",
    "\n",
    "NB = MultinomialNB\n",
    "print(precision_score(y, stratifiedkfold_cv(vec.transform(x),np.array(y),NB), average='macro'))"
   ]
  },
  {
   "cell_type": "code",
   "execution_count": 72,
   "metadata": {
    "collapsed": true
   },
   "outputs": [],
   "source": [
    "\n",
    "\n",
    "\n",
    "class TextClassifier():\n",
    "\n",
    "    def __init__(self, classifier=MultinomialNB()):\n",
    "        self.classifier = classifier\n",
    "        self.vectorizer = CountVectorizer(analyzer='word', ngram_range=(1,4), max_features=20000)\n",
    "\n",
    "    def features(self, X):\n",
    "        return self.vectorizer.transform(X)\n",
    "\n",
    "    def fit(self, X, y):\n",
    "        self.vectorizer.fit(X)\n",
    "        self.classifier.fit(self.features(X), y)\n",
    "\n",
    "    def predict(self, x):\n",
    "        return self.classifier.predict(self.features([x]))\n",
    "\n",
    "    def score(self, X, y):\n",
    "        return self.classifier.score(self.features(X), y)"
   ]
  },
  {
   "cell_type": "code",
   "execution_count": 76,
   "metadata": {},
   "outputs": [
    {
     "name": "stdout",
     "output_type": "stream",
     "text": [
      "['推荐']\n",
      "0.395569620253\n"
     ]
    }
   ],
   "source": [
    "text_classifier = TextClassifier()\n",
    "text_classifier.fit(x_train, y_train)\n",
    "print(text_classifier.predict('我 觉得 画面 还可以 配乐 也 还行'))\n",
    "print(text_classifier.score(x_test, y_test))"
   ]
  },
  {
   "cell_type": "code",
   "execution_count": null,
   "metadata": {
    "collapsed": true
   },
   "outputs": [],
   "source": []
  }
 ],
 "metadata": {
  "kernelspec": {
   "display_name": "Python 3",
   "language": "python",
   "name": "python3"
  },
  "language_info": {
   "codemirror_mode": {
    "name": "ipython",
    "version": 3
   },
   "file_extension": ".py",
   "mimetype": "text/x-python",
   "name": "python",
   "nbconvert_exporter": "python",
   "pygments_lexer": "ipython3",
   "version": "3.6.1"
  }
 },
 "nbformat": 4,
 "nbformat_minor": 2
}
